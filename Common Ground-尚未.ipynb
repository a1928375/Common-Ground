{
 "cells": [
  {
   "cell_type": "markdown",
   "metadata": {},
   "source": [
    "# Mine-wrong"
   ]
  },
  {
   "cell_type": "code",
   "execution_count": 9,
   "metadata": {},
   "outputs": [
    {
     "name": "stdout",
     "output_type": "stream",
     "text": [
      "0\n"
     ]
    }
   ],
   "source": [
    "chart = { }\n",
    "\n",
    "def csuffix(X,Y):\n",
    "    \n",
    "    if X[-1] != Y[-1]:\n",
    "        \n",
    "        return False\n",
    "    \n",
    "    else:\n",
    "                  \n",
    "        chart[X] = X[-1]\n",
    "        chart[Y] = Y[-1]\n",
    "            \n",
    "        csuffix(X[:-1], Y[:-1])\n",
    "        \n",
    "    return len(chart) // 2\n",
    "\n",
    "def prefixes(X):\n",
    "    \n",
    "    return [X[:i] for i in range(1,len(X)+1)] \n",
    "    \n",
    "def lsubstring(X, Y):\n",
    "    \n",
    "    return len([(X[i:],Y[j:]) for i in range(len(X)-1,-1,-1) for j in range(len(Y)-1,-1,-1) if X[i:] == Y[j:]])\n",
    "\n",
    "print (lsubstring(\"Tapachula\", \"Temapache\"))  \n"
   ]
  },
  {
   "cell_type": "markdown",
   "metadata": {},
   "source": [
    "# Instructor"
   ]
  },
  {
   "cell_type": "code",
   "execution_count": 3,
   "metadata": {},
   "outputs": [
    {
     "name": "stdout",
     "output_type": "stream",
     "text": [
      "True\n",
      "True\n",
      "True\n",
      "True\n",
      "True\n",
      "True\n",
      "True\n",
      "True\n",
      "True\n",
      "True\n",
      "True\n",
      "56.5 µs ± 17.3 µs per loop (mean ± std. dev. of 7 runs, 10000 loops each)\n"
     ]
    }
   ],
   "source": [
    "chart = { }\n",
    "\n",
    "def csuffix(X,Y):\n",
    "\n",
    "    if (X, Y) in chart:\n",
    "        \n",
    "        return chart[(X, Y)]\n",
    "        \n",
    "    else:\n",
    "        \n",
    "        answer = 0\n",
    "        \n",
    "    if X != \"\" and Y != \"\" and X[-1] == Y[-1]:\n",
    "                \n",
    "        answer = 1 + csuffix(X[:-1], Y[:-1])\n",
    "        \n",
    "    chart[(X, Y)] = answer\n",
    "    \n",
    "    return answer\n",
    "\n",
    "\n",
    "def prefixes(X):\n",
    "\n",
    "    return [X[:i] for i in range(1,len(X)+1)]\n",
    "\n",
    "\n",
    "def lsubstring(X,Y):\n",
    "\n",
    "    return max([csuffix(i, j) for i in prefixes(X) for j in prefixes(Y)])\n",
    "\n",
    "\n",
    "print (lsubstring(\"Tapachula\", \"Temapache\") == 5)  # \"apach\"\n",
    "print (chart[(\"Tapach\",\"Temapach\")] == 5)\n",
    "\n",
    "print (lsubstring(\"Harare\", \"Mutare\") == 3)        # \"are\" \n",
    "print (chart[(\"Harare\",\"Mutare\")] == 3)\n",
    "\n",
    "print (lsubstring(\"Iqaluit\", \"Whitehorse\") == 2)   # \"it\" \n",
    "print (chart[(\"Iqaluit\",\"Whit\")] == 2)\n",
    "\n",
    "print (lsubstring(\"Prey Veng\", \"Svay Rieng\") == 3) # \"eng\" \n",
    "print (chart[(\"Prey Ven\",\"Svay Rien\")] == 2)\n",
    "print (chart[(\"Prey Veng\",\"Svay Rieng\")] == 3)\n",
    "\n",
    "print (lsubstring(\"Aceh\", \"Jambi\") == 0)           # \"\"\n",
    "print (chart[(\"Aceh\", \"Jambi\")] == 0)\n",
    "\n",
    "\n",
    "%timeit lsubstring(\"Tapachula\", \"Temapache\") \n"
   ]
  },
  {
   "cell_type": "markdown",
   "metadata": {},
   "source": [
    "# Clear & faster solution"
   ]
  },
  {
   "cell_type": "code",
   "execution_count": 7,
   "metadata": {},
   "outputs": [
    {
     "name": "stdout",
     "output_type": "stream",
     "text": [
      "5\n",
      "40.6 µs ± 14.5 µs per loop (mean ± std. dev. of 7 runs, 10000 loops each)\n"
     ]
    }
   ],
   "source": [
    "def LCSubStr(X, Y): \n",
    "      \n",
    "    # Create a table to store lengths of longest common suffixes of substrings. Note that LCSuff[i][j] \n",
    "    # contains the length of longest common suffix of X[0...i-1] and Y[0...j-1]. The first row and \n",
    "    # first column entries have no logical meaning, they are used only for simplicity of the program. \n",
    "      \n",
    "    # LCSuff is the table with zero value initially in each cell \n",
    "    LCSuff = [[0 for k in range(len(Y)+1)] for l in range(len(X)+1)] \n",
    "      \n",
    "    # To store the length of longest common substring \n",
    "    result = 0 \n",
    "  \n",
    "    # Following steps to build LCSuff[m+1][n+1] in bottom up fashion \n",
    "    for i in range(len(X) + 1):\n",
    "        \n",
    "        for j in range(len(Y) + 1): \n",
    "            \n",
    "            if i == 0 or j == 0: \n",
    "                \n",
    "                LCSuff[i][j] = 0\n",
    "                \n",
    "            elif X[i-1] == Y[j-1]: \n",
    "                \n",
    "                LCSuff[i][j] = LCSuff[i-1][j-1] + 1\n",
    "                \n",
    "                result = max(result, LCSuff[i][j]) \n",
    "                \n",
    "            else: \n",
    "                \n",
    "                LCSuff[i][j] = 0\n",
    "                \n",
    "    return result \n",
    "\n",
    "print (LCSubStr(\"Tapachula\", \"Temapache\"))\n",
    "%timeit LCSubStr(\"Tapachula\", \"Temapache\")"
   ]
  }
 ],
 "metadata": {
  "kernelspec": {
   "display_name": "Python 3",
   "language": "python",
   "name": "python3"
  },
  "language_info": {
   "codemirror_mode": {
    "name": "ipython",
    "version": 3
   },
   "file_extension": ".py",
   "mimetype": "text/x-python",
   "name": "python",
   "nbconvert_exporter": "python",
   "pygments_lexer": "ipython3",
   "version": "3.7.3"
  }
 },
 "nbformat": 4,
 "nbformat_minor": 2
}
